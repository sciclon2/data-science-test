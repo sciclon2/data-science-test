{
  "nbformat": 4,
  "nbformat_minor": 0,
  "metadata": {
    "colab": {
      "provenance": [],
      "toc_visible": true,
      "authorship_tag": "ABX9TyPbPFm9opMyuZYrciOptOg0",
      "include_colab_link": true
    },
    "kernelspec": {
      "name": "python3",
      "display_name": "Python 3"
    },
    "language_info": {
      "name": "python"
    }
  },
  "cells": [
    {
      "cell_type": "markdown",
      "metadata": {
        "id": "view-in-github",
        "colab_type": "text"
      },
      "source": [
        "<a href=\"https://colab.research.google.com/github/sciclon2/data-science-test/blob/main/Untitled1.ipynb\" target=\"_parent\"><img src=\"https://colab.research.google.com/assets/colab-badge.svg\" alt=\"Open In Colab\"/></a>"
      ]
    },
    {
      "cell_type": "markdown",
      "source": [
        "## Ingest"
      ],
      "metadata": {
        "id": "PYLSAGKrSF_e"
      }
    },
    {
      "cell_type": "markdown",
      "source": [
        "# New section"
      ],
      "metadata": {
        "id": "irnkCbLNSro5"
      }
    },
    {
      "cell_type": "markdown",
      "source": [
        "## Conclusion\n"
      ],
      "metadata": {
        "id": "G-PoNS7tStv-"
      }
    },
    {
      "cell_type": "markdown",
      "source": [
        "## Eds"
      ],
      "metadata": {
        "id": "P3musozDSH7L"
      }
    },
    {
      "cell_type": "markdown",
      "source": [
        "## Modeling"
      ],
      "metadata": {
        "id": "M_miatoSSTTk"
      }
    },
    {
      "cell_type": "markdown",
      "source": [
        "### sub section"
      ],
      "metadata": {
        "id": "AriHGn_0TMkv"
      }
    },
    {
      "cell_type": "markdown",
      "source": [
        "#### sub sub section"
      ],
      "metadata": {
        "id": "T_Zla9oeTQsD"
      }
    }
  ]
}